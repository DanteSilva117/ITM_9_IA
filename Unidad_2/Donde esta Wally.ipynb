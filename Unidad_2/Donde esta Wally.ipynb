{
 "cells": [
  {
   "cell_type": "code",
   "execution_count": 2,
   "id": "59f77874",
   "metadata": {},
   "outputs": [],
   "source": [
    "import numpy as np\n",
    "import cv2 as cv\n",
    "import os"
   ]
  },
  {
   "cell_type": "markdown",
   "id": "80f1c1e6",
   "metadata": {},
   "source": [
    "## Probando el Classifier \"Buscando a Wally\""
   ]
  },
  {
   "cell_type": "code",
   "execution_count": 11,
   "id": "25305d99",
   "metadata": {},
   "outputs": [],
   "source": [
    "#image = cv.imread(r'D:\\IA\\Proyecto_2 Waldo\\wally_5.png')\n",
    "#image = cv.imread(r'D:\\IA\\Proyecto_2 Waldo\\wally_2.png')\n",
    "#image = cv.imread(r'D:\\IA\\Proyecto_2 Waldo\\wally_6.png')\n",
    "gray = cv.cvtColor(image, cv.COLOR_BGR2GRAY)\n",
    "\n",
    "wally = cv.CascadeClassifier(r'D:\\IA\\Proyecto_2 Waldo\\cascade.xml')\n",
    "\n",
    "waldo_detections = wally.detectMultiScale(gray, scaleFactor=1.07, minNeighbors=10, minSize=(5,5))\n",
    "\n",
    "for (x, y, w, h) in waldo_detections:\n",
    "    cv.rectangle(image, (x, y), (x+w, y+h), (0, 255, 0), 2)\n",
    "    cv.putText(image, 'Wally', (x, y-10), cv.FONT_HERSHEY_SIMPLEX, 0.9, (0, 255, 0), 2)\n",
    "\n",
    "\n",
    "cv.imshow('¿Donde esta Wally?', image)\n",
    "cv.waitKey(0)\n",
    "cv.destroyAllWindows()"
   ]
  },
  {
   "cell_type": "markdown",
   "id": "78e860a9",
   "metadata": {},
   "source": [
    "### Imagen 1"
   ]
  },
  {
   "cell_type": "code",
   "execution_count": 6,
   "id": "5d1edefb",
   "metadata": {},
   "outputs": [],
   "source": [
    "image = cv.imread(r'D:\\IA\\Proyecto_2 Waldo\\wally_1.jpg')\n",
    "\n",
    "gray = cv.cvtColor(image, cv.COLOR_BGR2GRAY)\n",
    "\n",
    "wally = cv.CascadeClassifier(r'D:\\IA\\Proyecto_2 Waldo\\cascade.xml')\n",
    "\n",
    "waldo_detections = wally.detectMultiScale(gray, scaleFactor=1.6, minNeighbors=4, minSize=(5,5))\n",
    "\n",
    "for (x, y, w, h) in waldo_detections:\n",
    "    cv.rectangle(image, (x, y), (x+w, y+h), (0, 255, 0), 2)\n",
    "    cv.putText(image, 'Wally', (x, y-10), cv.FONT_HERSHEY_SIMPLEX, 0.9, (0, 255, 0), 2)\n",
    "\n",
    "\n",
    "cv.imshow('¿Donde esta Wally?', image)\n",
    "cv.waitKey(0)\n",
    "cv.destroyAllWindows()"
   ]
  },
  {
   "cell_type": "markdown",
   "id": "c940aa1e",
   "metadata": {},
   "source": [
    "### Imagen 2"
   ]
  },
  {
   "cell_type": "code",
   "execution_count": 7,
   "id": "50a10096",
   "metadata": {},
   "outputs": [],
   "source": [
    "image = cv.imread(r'D:\\IA\\Proyecto_2 Waldo\\wally_2.png')\n",
    "\n",
    "gray = cv.cvtColor(image, cv.COLOR_BGR2GRAY)\n",
    "\n",
    "wally = cv.CascadeClassifier(r'D:\\IA\\Proyecto_2 Waldo\\cascade.xml')\n",
    "\n",
    "waldo_detections = wally.detectMultiScale(gray, scaleFactor=1.5, minNeighbors=2, minSize=(5, 5))\n",
    "\n",
    "for (x, y, w, h) in waldo_detections:\n",
    "    cv.rectangle(image, (x, y), (x+w, y+h), (0, 255, 0), 2)\n",
    "    cv.putText(image, 'Wally', (x, y-10), cv.FONT_HERSHEY_SIMPLEX, 0.9, (0, 255, 0), 2)\n",
    "\n",
    "\n",
    "cv.imshow('¿Donde esta Wally?', image)\n",
    "cv.waitKey(0)\n",
    "cv.destroyAllWindows()"
   ]
  },
  {
   "cell_type": "markdown",
   "id": "1de7d9ea",
   "metadata": {},
   "source": [
    "## Imagen 3"
   ]
  },
  {
   "cell_type": "code",
   "execution_count": 8,
   "id": "9729aad1",
   "metadata": {},
   "outputs": [],
   "source": [
    "image = cv.imread(r'D:\\IA\\Proyecto_2 Waldo\\wally_3.jpg')\n",
    "\n",
    "gray = cv.cvtColor(image, cv.COLOR_BGR2GRAY)\n",
    "\n",
    "wally = cv.CascadeClassifier(r'D:\\IA\\Proyecto_2 Waldo\\cascade.xml')\n",
    "\n",
    "waldo_detections = wally.detectMultiScale(gray, scaleFactor=1.06, minNeighbors=9, minSize=(5, 5))\n",
    "\n",
    "for (x, y, w, h) in waldo_detections:\n",
    "    cv.rectangle(image, (x, y), (x+w, y+h), (0, 255, 0), 2)\n",
    "    cv.putText(image, 'Wally', (x, y-10), cv.FONT_HERSHEY_SIMPLEX, 0.9, (0, 255, 0), 2)\n",
    "\n",
    "\n",
    "cv.imshow('¿Donde esta Wally?', image)\n",
    "cv.waitKey(0)\n",
    "cv.destroyAllWindows()"
   ]
  },
  {
   "cell_type": "markdown",
   "id": "24096c21",
   "metadata": {},
   "source": [
    "## Imagen 4"
   ]
  },
  {
   "cell_type": "code",
   "execution_count": 9,
   "id": "3937ef69",
   "metadata": {},
   "outputs": [],
   "source": [
    "image = cv.imread(r'D:\\IA\\Proyecto_2 Waldo\\wally_4.jpg')\n",
    "\n",
    "gray = cv.cvtColor(image, cv.COLOR_BGR2GRAY)\n",
    "\n",
    "wally = cv.CascadeClassifier(r'D:\\IA\\Proyecto_2 Waldo\\cascade.xml')\n",
    "\n",
    "waldo_detections = wally.detectMultiScale(gray, scaleFactor=1.3, minNeighbors=5, minSize=(5,5))\n",
    "\n",
    "for (x, y, w, h) in waldo_detections:\n",
    "    cv.rectangle(image, (x, y), (x+w, y+h), (0, 255, 0), 2)\n",
    "    cv.putText(image, 'Wally', (x, y-10), cv.FONT_HERSHEY_SIMPLEX, 0.9, (0, 255, 0), 2)\n",
    "\n",
    "\n",
    "cv.imshow('¿Donde esta Wally?', image)\n",
    "cv.waitKey(0)\n",
    "cv.destroyAllWindows()"
   ]
  },
  {
   "cell_type": "markdown",
   "id": "0885ae37",
   "metadata": {},
   "source": [
    "## Imagen 5"
   ]
  },
  {
   "cell_type": "code",
   "execution_count": 17,
   "id": "9f4b300d",
   "metadata": {},
   "outputs": [],
   "source": [
    "image = cv.imread(r'D:\\IA\\Proyecto_2 Waldo\\wally_5.png')\n",
    "\n",
    "gray = cv.cvtColor(image, cv.COLOR_BGR2GRAY)\n",
    "\n",
    "wally = cv.CascadeClassifier(r'D:\\IA\\Proyecto_2 Waldo\\cascade.xml')\n",
    "\n",
    "waldo_detections = wally.detectMultiScale(gray, scaleFactor=1.07, minNeighbors=10, minSize=(5,5))\n",
    "\n",
    "for (x, y, w, h) in waldo_detections:\n",
    "    cv.rectangle(image, (x, y), (x+w, y+h), (0, 255, 0), 2)\n",
    "    cv.putText(image, 'Wally', (x, y-10), cv.FONT_HERSHEY_SIMPLEX, 0.9, (0, 255, 0), 2)\n",
    "\n",
    "\n",
    "cv.imshow('¿Donde esta Wally?', image)\n",
    "cv.waitKey(0)\n",
    "cv.destroyAllWindows()"
   ]
  },
  {
   "cell_type": "code",
   "execution_count": null,
   "id": "dede7266",
   "metadata": {},
   "outputs": [],
   "source": []
  }
 ],
 "metadata": {
  "kernelspec": {
   "display_name": "Python 3 (ipykernel)",
   "language": "python",
   "name": "python3"
  },
  "language_info": {
   "codemirror_mode": {
    "name": "ipython",
    "version": 3
   },
   "file_extension": ".py",
   "mimetype": "text/x-python",
   "name": "python",
   "nbconvert_exporter": "python",
   "pygments_lexer": "ipython3",
   "version": "3.11.4"
  }
 },
 "nbformat": 4,
 "nbformat_minor": 5
}
