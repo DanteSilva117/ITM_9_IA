{
 "cells": [
  {
   "cell_type": "code",
   "execution_count": 93,
   "metadata": {},
   "outputs": [],
   "source": [
    "import cv2 as cv\n",
    "import os\n",
    "\n",
    "imgPaths = 'Cascade_Trainger_GUI\\\\bd\\\\bd_nowally'\n",
    "outputPath = 'Cascade_Trainger_GUI\\\\bd\\\\bd_negativa'\n",
    "nomFiles = os.listdir(imgPaths)\n",
    "\n",
    "# Contar cuántos archivos ya existen en la carpeta de salida\n",
    "i = len(os.listdir(outputPath))"
   ]
  },
  {
   "cell_type": "code",
   "execution_count": 94,
   "metadata": {},
   "outputs": [],
   "source": [
    "def escalagris(img, i):\n",
    "    gray = cv.cvtColor(img, cv.COLOR_BGR2GRAY)\n",
    "    cv.imwrite('Cascade_Trainger_GUI\\\\bd\\\\bd_negativa\\\\gris_negativa'+str(i)+'.png',gray)"
   ]
  },
  {
   "cell_type": "code",
   "execution_count": 95,
   "metadata": {},
   "outputs": [],
   "source": [
    "def rotar(img, i):\n",
    "    h,w = img.shape[:2]\n",
    "    mv = cv.getRotationMatrix2D((h//2,w//2),90,-1)\n",
    "    img2 = cv.warpAffine(img,mv,(h,w))\n",
    "    \n",
    "    # Agregar efecto de espejo horizontal y vertical\n",
    "    img2 = cv.flip(img2, -1)\n",
    "    \n",
    "    cv.imwrite('Cascade_Trainger_GUI\\\\bd\\\\bd_negativa\\\\rotar_negativa'+str(i)+'.png',img2)"
   ]
  },
  {
   "cell_type": "code",
   "execution_count": 96,
   "metadata": {},
   "outputs": [],
   "source": [
    "\n",
    "\n",
    "for nomFile in nomFiles:\n",
    "    i = i + 1\n",
    "    imgPath = imgPaths + '/' + nomFile\n",
    "    img = cv.imread(imgPath)\n",
    "    if img is None:\n",
    "        print(f'La imagen {imgPath} no se pudo cargar.')\n",
    "        continue\n",
    "    # Cambiar el tamaño de la imagen a 50x50\n",
    "    img = cv.resize(img, (50, 50))\n",
    "    rotar(img, i)\n",
    "    escalagris(img, i)"
   ]
  }
 ],
 "metadata": {
  "kernelspec": {
   "display_name": "Python 3",
   "language": "python",
   "name": "python3"
  },
  "language_info": {
   "codemirror_mode": {
    "name": "ipython",
    "version": 3
   },
   "file_extension": ".py",
   "mimetype": "text/x-python",
   "name": "python",
   "nbconvert_exporter": "python",
   "pygments_lexer": "ipython3",
   "version": "3.12.2"
  }
 },
 "nbformat": 4,
 "nbformat_minor": 2
}
