{
 "cells": [
  {
   "cell_type": "code",
   "execution_count": 4,
   "metadata": {},
   "outputs": [],
   "source": [
    "import cv2 as cv\n",
    "import numpy as np"
   ]
  },
  {
   "cell_type": "code",
   "execution_count": 5,
   "metadata": {},
   "outputs": [
    {
     "name": "stdout",
     "output_type": "stream",
     "text": [
      "(1200, 1200) 1440000\n"
     ]
    }
   ],
   "source": [
    "import cv2 as cv\n",
    "\n",
    "def process_image():\n",
    "\n",
    "    # Cargar la imagen en escala de grises\n",
    "    img = cv.imread('C:\\\\Users\\\\dante\\\\Downloads\\\\jpeg1.jpg', 0)\n",
    "\n",
    "    # Imprimir las dimensiones y el tamaño de la imagen\n",
    "    print(img.shape, img.size)\n",
    "\n",
    "    # Obtener el ancho y alto de la imagen\n",
    "    w = img.shape[0]\n",
    "    h = img.shape[1]\n",
    "\n",
    "    # Mostrar la imagen original\n",
    "    img2 = img\n",
    "    cv.imshow('imagen', img2)\n",
    "\n",
    "    # Procesar la imagen pixel por pixel\n",
    "    for x in range(w):\n",
    "        for y in range(h):\n",
    "            if img[x, y] > 50:\n",
    "                img[x, y] = 255\n",
    "            else:\n",
    "                img[x, y] = 0\n",
    "\n",
    "    # Mostrar la imagen procesada\n",
    "    cv.imshow('imagen1', img)\n",
    "    cv.waitKey(0)\n",
    "    cv.destroyAllWindows()\n",
    "\n",
    "# Llamar a la función para procesar la imagen\n",
    "process_image()\n"
   ]
  },
  {
   "cell_type": "markdown",
   "metadata": {},
   "source": [
    "~~~\n",
    "img = cv.imread('C:\\\\Users\\\\dante\\\\Downloads\\\\jpeg1.jpg', 0)\n",
    "~~~"
   ]
  },
  {
   "cell_type": "markdown",
   "metadata": {},
   "source": [
    "En esta línea, se está leyendo una imagen desde el archivo 'jpeg1.jpg' ubicado en la ruta 'C:\\\\Users\\\\dante\\\\Downloads\\\\'. La función `cv.imread()` de la biblioteca OpenCV se utiliza para leer imágenes. El segundo argumento, `0`, indica que la imagen se leerá en escala de grises."
   ]
  },
  {
   "cell_type": "markdown",
   "metadata": {},
   "source": [
    "~~~\n",
    "print(img.shape, img.size)\n",
    "~~~"
   ]
  },
  {
   "cell_type": "markdown",
   "metadata": {},
   "source": [
    "Aquí, se imprime la forma y el tamaño de la imagen. `img.shape` devuelve una tupla que contiene las dimensiones de la imagen en el formato (altura, ancho). `img.size` devuelve el número total de píxeles en la imagen.\n",
    "\n"
   ]
  },
  {
   "cell_type": "markdown",
   "metadata": {},
   "source": [
    "~~~\n",
    "w = img.shape[0]\n",
    "h = img.shape[1]\n",
    "~~~"
   ]
  },
  {
   "cell_type": "markdown",
   "metadata": {},
   "source": [
    "Estas líneas asignan el valor de la altura de la imagen a la variable `w` y el valor del ancho de la imagen a la variable `h`. Esto se hace para facilitar el acceso a las dimensiones de la imagen más adelante en el código.\n"
   ]
  },
  {
   "cell_type": "markdown",
   "metadata": {},
   "source": [
    "~~~\n",
    "img2 = img\n",
    "~~~"
   ]
  },
  {
   "cell_type": "markdown",
   "metadata": {},
   "source": [
    "Aquí, se crea una nueva variable `img2` que hace referencia a la misma imagen que `img`. Esto significa que cualquier cambio realizado en `img2` también afectará a `img`.\n",
    "\n"
   ]
  },
  {
   "cell_type": "markdown",
   "metadata": {},
   "source": [
    "~~~\n",
    "cv.imshow('imagen', img2)\n",
    "~~~"
   ]
  },
  {
   "cell_type": "markdown",
   "metadata": {},
   "source": [
    "Esta línea muestra la imagen en una ventana con el título 'imagen' utilizando la función `cv.imshow()` de OpenCV."
   ]
  },
  {
   "cell_type": "markdown",
   "metadata": {},
   "source": [
    "~~~\n",
    "for x in range(w):\n",
    "    for y in range(h):\n",
    "        if(img[x,y]>50):\n",
    "            img[x,y]=255\n",
    "        else:\n",
    "            img[x,y]=0\n",
    "~~~"
   ]
  },
  {
   "cell_type": "markdown",
   "metadata": {},
   "source": [
    "Estos bucles anidados recorren cada píxel de la imagen. Si el valor del píxel es mayor que 50, se establece en 255 (blanco), de lo contrario, se establece en 0 (negro). Esto se hace para realizar una operación de umbralización en la imagen.\n",
    "\n"
   ]
  },
  {
   "cell_type": "markdown",
   "metadata": {},
   "source": [
    "~~~\n",
    "cv.imshow('imagen1', img)\n",
    "cv.waitKey(0)\n",
    "cv.destroyAllWindows()\n",
    "~~~"
   ]
  },
  {
   "cell_type": "markdown",
   "metadata": {},
   "source": [
    "Estas líneas muestran la imagen resultante después de la umbralización en una nueva ventana con el título 'imagen1'. `cv.waitKey(0)` espera a que se presione cualquier tecla antes de continuar la ejecución del programa. `cv.destroyAllWindows()` cierra todas las ventanas abiertas.\n",
    "\n",
    "Espero que esta explicación te haya sido útil. Si tienes alguna otra pregunta, no dudes en hacerla."
   ]
  }
 ],
 "metadata": {
  "kernelspec": {
   "display_name": "Python 3",
   "language": "python",
   "name": "python3"
  },
  "language_info": {
   "codemirror_mode": {
    "name": "ipython",
    "version": 3
   },
   "file_extension": ".py",
   "mimetype": "text/x-python",
   "name": "python",
   "nbconvert_exporter": "python",
   "pygments_lexer": "ipython3",
   "version": "3.12.2"
  }
 },
 "nbformat": 4,
 "nbformat_minor": 2
}
