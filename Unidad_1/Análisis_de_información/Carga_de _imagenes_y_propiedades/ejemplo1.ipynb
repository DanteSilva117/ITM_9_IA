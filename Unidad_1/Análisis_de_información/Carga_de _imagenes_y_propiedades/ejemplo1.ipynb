{
 "cells": [
  {
   "cell_type": "code",
   "execution_count": 1,
   "metadata": {},
   "outputs": [
    {
     "name": "stdout",
     "output_type": "stream",
     "text": [
      "[[[ 56  25   0]\n",
      "  [ 92  57   7]\n",
      "  [ 99  55   0]\n",
      "  ...\n",
      "  [ 99  55   0]\n",
      "  [ 92  57   7]\n",
      "  [ 56  25   0]]\n",
      "\n",
      " [[ 91  56   6]\n",
      "  [132  94  36]\n",
      "  [144  95  27]\n",
      "  ...\n",
      "  [144  95  27]\n",
      "  [134  93  38]\n",
      "  [ 91  56   6]]\n",
      "\n",
      " [[100  56   0]\n",
      "  [146  97  29]\n",
      "  [160 101  22]\n",
      "  ...\n",
      "  [158 102  21]\n",
      "  [146  97  29]\n",
      "  [100  56   0]]\n",
      "\n",
      " ...\n",
      "\n",
      " [[100  56   0]\n",
      "  [146  97  29]\n",
      "  [160 101  22]\n",
      "  ...\n",
      "  [158 102  21]\n",
      "  [146  97  29]\n",
      "  [100  56   0]]\n",
      "\n",
      " [[ 91  56   6]\n",
      "  [132  94  36]\n",
      "  [144  95  27]\n",
      "  ...\n",
      "  [144  95  27]\n",
      "  [134  93  38]\n",
      "  [ 91  56   6]]\n",
      "\n",
      " [[ 56  25   0]\n",
      "  [ 92  57   7]\n",
      "  [ 99  55   0]\n",
      "  ...\n",
      "  [ 99  55   0]\n",
      "  [ 92  57   7]\n",
      "  [ 56  25   0]]]\n"
     ]
    }
   ],
   "source": [
    "import cv2 as cv\n",
    "img = cv.imread('C:\\\\Users\\\\dante\\\\Downloads\\\\jpeg1.jpg')\n",
    "print(img)\n",
    "cv.imshow('marco', img)\n",
    "cv.waitKey()\n",
    "cv.destroyAllWindows()"
   ]
  },
  {
   "cell_type": "markdown",
   "metadata": {},
   "source": [
    "¡Claro! Permíteme explicarte cada parte del código:\n",
    "\n",
    "1. `import cv2 as cv`: Esta línea importa el módulo `cv2` de OpenCV y lo renombra como `cv`. OpenCV es una biblioteca popular utilizada para el procesamiento de imágenes y visión por computadora en Python.\n",
    "\n",
    "2. `img = cv.imread('C:\\\\Users\\\\dante\\\\Downloads\\\\jpeg1.jpg')`: Esta línea carga una imagen desde el archivo `'C:\\\\Users\\\\dante\\\\Downloads\\\\jpeg1.jpg'` y la almacena en la variable `img`. `cv.imread()` es una función de OpenCV que lee una imagen de un archivo y la convierte en una matriz NumPy.\n",
    "\n",
    "3. `print(img)`: Esta línea imprime la matriz de la imagen en la consola. La matriz representa los valores de los píxeles de la imagen.\n",
    "\n",
    "4. `cv.imshow('marco', img)`: Esta línea muestra la imagen en una ventana con el título `'marco'`. `cv.imshow()` es una función de OpenCV que crea una ventana y muestra la imagen en ella.\n",
    "\n",
    "5. `cv.waitKey()`: Esta línea espera hasta que se presione una tecla en la ventana de la imagen. Esto permite que la imagen se muestre durante un tiempo antes de que la ventana se cierre.\n",
    "\n",
    "6. `cv.destroyAllWindows()`: Esta línea cierra todas las ventanas creadas por OpenCV. En este caso, cierra la ventana de la imagen.\n",
    "\n",
    "En resumen, este código carga una imagen desde un archivo, la muestra en una ventana y espera hasta que se presione una tecla antes de cerrar la ventana. Es útil para visualizar imágenes y realizar operaciones de procesamiento de imágenes utilizando OpenCV."
   ]
  }
 ],
 "metadata": {
  "kernelspec": {
   "display_name": "Python 3 (ipykernel)",
   "language": "python",
   "name": "python3"
  },
  "language_info": {
   "codemirror_mode": {
    "name": "ipython",
    "version": 3
   },
   "file_extension": ".py",
   "mimetype": "text/x-python",
   "name": "python",
   "nbconvert_exporter": "python",
   "pygments_lexer": "ipython3",
   "version": "3.12.2"
  }
 },
 "nbformat": 4,
 "nbformat_minor": 4
}
