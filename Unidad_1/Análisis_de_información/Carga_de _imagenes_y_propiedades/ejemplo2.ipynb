{
 "cells": [
  {
   "cell_type": "markdown",
   "metadata": {},
   "source": [
    "import cv2 as cv \n",
    "img = cv.imread(\"/home/likcos/Imágenes/tr.png\",1)\n",
    "w,h,c = img.shape\n",
    "print(w,h,c)\n",
    "cv.imshow('marco', img)\n",
    "cv.waitKey()\n",
    "cv.destroyAllWindows()"
   ]
  },
  {
   "cell_type": "code",
   "execution_count": 1,
   "metadata": {},
   "outputs": [],
   "source": [
    "import cv2 as cv"
   ]
  },
  {
   "cell_type": "code",
   "execution_count": 2,
   "metadata": {},
   "outputs": [
    {
     "name": "stdout",
     "output_type": "stream",
     "text": [
      "1200 1200 3\n"
     ]
    }
   ],
   "source": [
    "img = cv.imread('C:\\\\Users\\\\dante\\\\Downloads\\\\jpeg1.jpg', 1)\n",
    "\n",
    "w,h,c = img.shape\n",
    "print(w,h,c)\n",
    "\n",
    "cv.imshow('marco',img)\n",
    "cv.waitKey(0)\n",
    "cv.destroyAllWindows()"
   ]
  },
  {
   "cell_type": "markdown",
   "metadata": {},
   "source": [
    "~~~\n",
    "img = cv.imread('C:\\\\Users\\\\dante\\\\Downloads\\\\jpeg1.jpg', 1)\n",
    "~~~"
   ]
  },
  {
   "cell_type": "markdown",
   "metadata": {},
   "source": [
    "En esta línea, se está utilizando la función `imread` de la biblioteca OpenCV (cv) para leer una imagen. El primer argumento es la ruta de la imagen que se desea leer, en este caso, `'C:\\\\Users\\\\dante\\\\Downloads\\\\jpeg1.jpg'`. El segundo argumento, `1`, indica que la imagen se leerá en color. La función `imread` devuelve una matriz que representa la imagen."
   ]
  },
  {
   "cell_type": "markdown",
   "metadata": {},
   "source": [
    "~~~\n",
    "w,h,c = img.shape\n",
    "print(w,h,c)\n",
    "~~~"
   ]
  },
  {
   "cell_type": "markdown",
   "metadata": {},
   "source": [
    "En estas líneas, se está accediendo a la propiedad `shape` de la matriz `img`. La propiedad `shape` devuelve una tupla que contiene la altura, el ancho y el número de canales de la imagen. Al asignar los valores de la tupla a las variables `w`, `h` y `c`, se puede obtener la altura, el ancho y el número de canales de la imagen respectivamente. Luego, se imprime el valor de estas variables utilizando la función `print`.\n",
    "\n"
   ]
  },
  {
   "cell_type": "markdown",
   "metadata": {},
   "source": [
    "~~~\n",
    "cv.imshow('marco',img)\n",
    "cv.waitKey(0)\n",
    "cv.destroyAllWindows()\n",
    "~~~"
   ]
  },
  {
   "cell_type": "markdown",
   "metadata": {},
   "source": [
    "Estas líneas muestran la imagen en una ventana utilizando la función `imshow` de OpenCV. El primer argumento es el nombre de la ventana en la que se mostrará la imagen, en este caso, `'marco'`. El segundo argumento es la matriz de la imagen `img`. Luego, la función `waitKey(0)` espera hasta que se presione una tecla (en este caso, se espera hasta que se presione la tecla 0) antes de continuar con la ejecución del programa. Finalmente, la función `destroyAllWindows()` cierra todas las ventanas abiertas.\n",
    "\n",
    "En resumen, este código lee una imagen, obtiene su tamaño y muestra la imagen en una ventana."
   ]
  }
 ],
 "metadata": {
  "kernelspec": {
   "display_name": "Python 3",
   "language": "python",
   "name": "python3"
  },
  "language_info": {
   "codemirror_mode": {
    "name": "ipython",
    "version": 3
   },
   "file_extension": ".py",
   "mimetype": "text/x-python",
   "name": "python",
   "nbconvert_exporter": "python",
   "pygments_lexer": "ipython3",
   "version": "3.12.2"
  }
 },
 "nbformat": 4,
 "nbformat_minor": 2
}
