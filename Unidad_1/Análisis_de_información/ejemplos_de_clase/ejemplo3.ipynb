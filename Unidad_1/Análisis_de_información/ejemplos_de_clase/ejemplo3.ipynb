{
 "cells": [
  {
   "cell_type": "code",
   "execution_count": null,
   "metadata": {},
   "outputs": [],
   "source": [
    "import numpy as np\n",
    "import cv2 as cv"
   ]
  },
  {
   "cell_type": "code",
   "execution_count": null,
   "metadata": {},
   "outputs": [],
   "source": [
    "#importante que la imgane este en los 3 canales\n",
    "img = cv.imread('C:\\\\Users\\\\dante\\\\Downloads\\\\jpeg2.jpg', 1)\n",
    "#tener en HSV\n",
    "img2 = cv.cvtColor(img,cv.COLOR_BGR2HSV)\n",
    "vb=(0,60,60)\n",
    "va=(10,255,255)\n",
    "vb1=(170,60,60)\n",
    "va1=(180,255,255)\n",
    "\n",
    "#mask el inRange pasa la imagen en el unbral del HSV, con vb humbral bajo, va humbral alto, estrae esos pixeles\n",
    "mask=cv.inRange(img2, vb, va)\n",
    "mask1=cv.inRange(img2, vb1, va1)\n",
    "mask2=mask+mask1\n",
    "res=cv.bitwise_and(img, img, mask=mask2)\n",
    "cv.imshow('mask',mask)\n",
    "cv.imshow('img',img)\n",
    "cv.imshow('img2',img2)\n",
    "cv.imshow('res',res)\n",
    "cv.waitKey(0)\n",
    "cv.destroyAllWindows()"
   ]
  },
  {
   "cell_type": "code",
   "execution_count": 1,
   "metadata": {},
   "outputs": [],
   "source": [
    "import cv2 as cv\n",
    "\n",
    "# el numero de VideoCapture es el numero de la camara\n",
    "cap = cv.VideoCapture(0)\n",
    "#seguimiento por color\n",
    "while(True):\n",
    "    res, img = cap.read()\n",
    "    img2 = cv.cvtColor(img,cv.COLOR_BGR2HSV)\n",
    "    #tono, saturacion, brillo\n",
    "    vb=(170,100,60)\n",
    "    va=(180,255,255)\n",
    "    mask=cv.inRange(img2, vb, va)\n",
    "    res=cv.bitwise_and(img, img, mask=mask)\n",
    "    cv.imshow('captura',res)\n",
    "    if cv.waitKey(1) & 0xFF == ord('s'):\n",
    "        break\n",
    "cap.release()\n",
    "cap.destroyAllWindows()"
   ]
  }
 ],
 "metadata": {
  "kernelspec": {
   "display_name": "Python 3",
   "language": "python",
   "name": "python3"
  },
  "language_info": {
   "codemirror_mode": {
    "name": "ipython",
    "version": 3
   },
   "file_extension": ".py",
   "mimetype": "text/x-python",
   "name": "python",
   "nbconvert_exporter": "python",
   "pygments_lexer": "ipython3",
   "version": "3.12.2"
  }
 },
 "nbformat": 4,
 "nbformat_minor": 2
}
