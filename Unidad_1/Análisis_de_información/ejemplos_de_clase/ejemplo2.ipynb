{
 "cells": [
  {
   "cell_type": "code",
   "execution_count": 1,
   "metadata": {},
   "outputs": [],
   "source": [
    "import numpy as np\n",
    "import cv2 as cv"
   ]
  },
  {
   "cell_type": "code",
   "execution_count": null,
   "metadata": {},
   "outputs": [],
   "source": [
    "img = cv.imread('C:\\\\Users\\\\dante\\\\Downloads\\\\prueba.jpg',1)\n",
    "w,h=img.shape[:2]\n",
    "img2=np.zeros((w,h),dtype=np.uint8)\n",
    "b,g,r=cv.split(img)\n",
    "cv.imshow('b',b)\n",
    "cv.imshow('g',g)\n",
    "cv.imshow('r',r)\n",
    "b1=cv.merge([b,r,img2])\n",
    "g1=cv.merge([r,g,b])\n",
    "r1=cv.merge([g,b,r])\n",
    "# para que se vea la fomra norma es bgr la inversa de rgb\n",
    "cv.imshow('b',b1)\n",
    "cv.imshow('g',g1)\n",
    "cv.imshow('r',r1)\n",
    "cv.imshow('marco2',img2)\n",
    "cv.waitKey(0)\n",
    "cv.destroyAllWindows()"
   ]
  },
  {
   "cell_type": "code",
   "execution_count": 5,
   "metadata": {},
   "outputs": [],
   "source": [
    "# para deccion de colores por ejemplo en enfermedades en la piel se usa el modelo de color HSV\n",
    "img = cv.imread('C:\\\\Users\\\\dante\\\\Downloads\\\\prueba.jpg',1)\n",
    "img2 = cv.cvtColor(img, cv.COLOR_BGR2GRAY)\n",
    "# que cambia de rgb a escala de grises\n",
    "img3 = cv.cvtColor(img, cv.COLOR_BGR2HSV)\n",
    "# que cambie de rgb a hsv\n",
    "cv.imshow('img',img)\n",
    "cv.imshow('img2',img2)\n",
    "cv.imshow('img3',img3)\n",
    "cv.waitKey(0)\n",
    "cv.destroyAllWindows()\n"
   ]
  }
 ],
 "metadata": {
  "kernelspec": {
   "display_name": "Python 3",
   "language": "python",
   "name": "python3"
  },
  "language_info": {
   "codemirror_mode": {
    "name": "ipython",
    "version": 3
   },
   "file_extension": ".py",
   "mimetype": "text/x-python",
   "name": "python",
   "nbconvert_exporter": "python",
   "pygments_lexer": "ipython3",
   "version": "3.12.2"
  }
 },
 "nbformat": 4,
 "nbformat_minor": 2
}
