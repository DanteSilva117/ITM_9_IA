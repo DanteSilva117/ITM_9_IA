{
 "cells": [
  {
   "cell_type": "code",
   "execution_count": 1,
   "metadata": {},
   "outputs": [],
   "source": [
    "import cv2 as cv\n",
    "import numpy as np"
   ]
  },
  {
   "cell_type": "code",
   "execution_count": 2,
   "metadata": {},
   "outputs": [],
   "source": [
    "img = cv.imread('C:\\\\Users\\\\dante\\\\Downloads\\\\jpeg1.jpg', 1)\n",
    "img2 = cv.cvtColor(img, cv.COLOR_BGR2RGB)\n",
    "cv.imshow('img', img)\n",
    "cv.imshow('img2', img2)\n",
    "\n",
    "zero = np.zeros(img.shape[:2], dtype='uint8')\n",
    "(r,g,b)= cv.split(img)\n",
    "#cv.imshow('rg', r)\n",
    "#cv.imshow('gg', g)\n",
    "#cv.imshow('bg', b)\n",
    "cv.imshow('GRB', cv.merge([g,r,b]))\n",
    "#cv.imshow('G', cv.merge([zero,g,zero]))\n",
    "#cv.imshow('R', cv.merge([zero,zero,r]))\n",
    "#(r1,g1,b1)= cv.split(img2)\n",
    "#cv.imshow('R1', cv.merge([r1,zero,zero]))\n",
    "#cv.imshow('G1', cv.merge([zero,g1,zero]))\n",
    "#cv.imshow('B1', cv.merge([zero,zero,b1]))\n",
    "\n",
    "cv.waitKey(0)\n",
    "cv.destroyAllWindows()"
   ]
  }
 ],
 "metadata": {
  "kernelspec": {
   "display_name": "Python 3",
   "language": "python",
   "name": "python3"
  },
  "language_info": {
   "codemirror_mode": {
    "name": "ipython",
    "version": 3
   },
   "file_extension": ".py",
   "mimetype": "text/x-python",
   "name": "python",
   "nbconvert_exporter": "python",
   "pygments_lexer": "ipython3",
   "version": "3.12.2"
  }
 },
 "nbformat": 4,
 "nbformat_minor": 2
}
