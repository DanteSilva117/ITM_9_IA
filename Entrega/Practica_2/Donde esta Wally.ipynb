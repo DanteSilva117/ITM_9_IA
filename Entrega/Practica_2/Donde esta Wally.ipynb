{
 "cells": [
  {
   "cell_type": "code",
   "execution_count": 3,
   "id": "59f77874",
   "metadata": {},
   "outputs": [],
   "source": [
    "import numpy as np\n",
    "import cv2 as cv\n",
    "import os"
   ]
  },
  {
   "cell_type": "markdown",
   "id": "80f1c1e6",
   "metadata": {},
   "source": [
    "## Probando el Classifier \"Buscando a Wally\""
   ]
  },
  {
   "cell_type": "code",
   "execution_count": 2,
   "id": "25305d99",
   "metadata": {},
   "outputs": [
    {
     "ename": "NameError",
     "evalue": "name 'cv' is not defined",
     "output_type": "error",
     "traceback": [
      "\u001b[1;31m---------------------------------------------------------------------------\u001b[0m",
      "\u001b[1;31mNameError\u001b[0m                                 Traceback (most recent call last)",
      "Cell \u001b[1;32mIn[2], line 4\u001b[0m\n\u001b[0;32m      1\u001b[0m \u001b[38;5;66;03m#image = cv.imread(r'E:\\ITM_9_IA\\Entrega\\Practica_2\\wally_5.png')\u001b[39;00m\n\u001b[0;32m      2\u001b[0m \u001b[38;5;66;03m#image = cv.imread(r'E:\\ITM_9_IA\\Entrega\\Practica_2\\wally_2.png')\u001b[39;00m\n\u001b[0;32m      3\u001b[0m \u001b[38;5;66;03m#image = cv.imread(r'E:\\ITM_9_IA\\Entrega\\Practica_2\\wally_6.png')\u001b[39;00m\n\u001b[1;32m----> 4\u001b[0m gray \u001b[38;5;241m=\u001b[39m \u001b[43mcv\u001b[49m\u001b[38;5;241m.\u001b[39mcvtColor(image, cv\u001b[38;5;241m.\u001b[39mCOLOR_BGR2GRAY)\n\u001b[0;32m      6\u001b[0m wally \u001b[38;5;241m=\u001b[39m cv\u001b[38;5;241m.\u001b[39mCascadeClassifier(\u001b[38;5;124mr\u001b[39m\u001b[38;5;124m'\u001b[39m\u001b[38;5;124mD:\u001b[39m\u001b[38;5;124m\\\u001b[39m\u001b[38;5;124mIA\u001b[39m\u001b[38;5;124m\\\u001b[39m\u001b[38;5;124mProyecto_2 Waldo\u001b[39m\u001b[38;5;124m\\\u001b[39m\u001b[38;5;124mcascade.xml\u001b[39m\u001b[38;5;124m'\u001b[39m)\n\u001b[0;32m      8\u001b[0m waldo_detections \u001b[38;5;241m=\u001b[39m wally\u001b[38;5;241m.\u001b[39mdetectMultiScale(gray, scaleFactor\u001b[38;5;241m=\u001b[39m\u001b[38;5;241m1.07\u001b[39m, minNeighbors\u001b[38;5;241m=\u001b[39m\u001b[38;5;241m10\u001b[39m, minSize\u001b[38;5;241m=\u001b[39m(\u001b[38;5;241m5\u001b[39m,\u001b[38;5;241m5\u001b[39m))\n",
      "\u001b[1;31mNameError\u001b[0m: name 'cv' is not defined"
     ]
    }
   ],
   "source": [
    "#image = cv.imread(r'E:\\ITM_9_IA\\Entrega\\Practica_2\\wally_5.png')\n",
    "#image = cv.imread(r'E:\\ITM_9_IA\\Entrega\\Practica_2\\wally_2.png')\n",
    "#image = cv.imread(r'E:\\ITM_9_IA\\Entrega\\Practica_2\\wally_6.png')\n",
    "gray = cv.cvtColor(image, cv.COLOR_BGR2GRAY)\n",
    "\n",
    "wally = cv.CascadeClassifier(r'D:\\IA\\Proyecto_2 Waldo\\cascade.xml')\n",
    "\n",
    "waldo_detections = wally.detectMultiScale(gray, scaleFactor=1.07, minNeighbors=10, minSize=(5,5))\n",
    "\n",
    "for (x, y, w, h) in waldo_detections:\n",
    "    cv.rectangle(image, (x, y), (x+w, y+h), (0, 255, 0), 2)\n",
    "    cv.putText(image, 'Wally', (x, y-10), cv.FONT_HERSHEY_SIMPLEX, 0.9, (0, 255, 0), 2)\n",
    "\n",
    "\n",
    "cv.imshow('¿Donde esta Wally?', image)\n",
    "cv.waitKey(0)\n",
    "cv.destroyAllWindows()"
   ]
  },
  {
   "cell_type": "markdown",
   "id": "78e860a9",
   "metadata": {},
   "source": [
    "### Imagen 1"
   ]
  },
  {
   "cell_type": "code",
   "execution_count": 4,
   "id": "5d1edefb",
   "metadata": {},
   "outputs": [
    {
     "ename": "error",
     "evalue": "OpenCV(4.9.0) D:\\a\\opencv-python\\opencv-python\\opencv\\modules\\objdetect\\src\\cascadedetect.cpp:1689: error: (-215:Assertion failed) !empty() in function 'cv::CascadeClassifier::detectMultiScale'\n",
     "output_type": "error",
     "traceback": [
      "\u001b[1;31m---------------------------------------------------------------------------\u001b[0m",
      "\u001b[1;31merror\u001b[0m                                     Traceback (most recent call last)",
      "Cell \u001b[1;32mIn[4], line 7\u001b[0m\n\u001b[0;32m      3\u001b[0m gray \u001b[38;5;241m=\u001b[39m cv\u001b[38;5;241m.\u001b[39mcvtColor(image, cv\u001b[38;5;241m.\u001b[39mCOLOR_BGR2GRAY)\n\u001b[0;32m      5\u001b[0m wally \u001b[38;5;241m=\u001b[39m cv\u001b[38;5;241m.\u001b[39mCascadeClassifier(\u001b[38;5;124mr\u001b[39m\u001b[38;5;124m'\u001b[39m\u001b[38;5;124mE:\u001b[39m\u001b[38;5;124m\\\u001b[39m\u001b[38;5;124mITM_9_IA\u001b[39m\u001b[38;5;124m\\\u001b[39m\u001b[38;5;124mEntrega\u001b[39m\u001b[38;5;124m\\\u001b[39m\u001b[38;5;124mPractica_2\u001b[39m\u001b[38;5;124m\\\u001b[39m\u001b[38;5;124mwally\u001b[39m\u001b[38;5;124m\\\u001b[39m\u001b[38;5;124mclassifier\u001b[39m\u001b[38;5;124m\\\u001b[39m\u001b[38;5;124mcascade.xml\u001b[39m\u001b[38;5;124m'\u001b[39m)\n\u001b[1;32m----> 7\u001b[0m waldo_detections \u001b[38;5;241m=\u001b[39m \u001b[43mwally\u001b[49m\u001b[38;5;241;43m.\u001b[39;49m\u001b[43mdetectMultiScale\u001b[49m\u001b[43m(\u001b[49m\u001b[43mgray\u001b[49m\u001b[43m,\u001b[49m\u001b[43m \u001b[49m\u001b[43mscaleFactor\u001b[49m\u001b[38;5;241;43m=\u001b[39;49m\u001b[38;5;241;43m1.6\u001b[39;49m\u001b[43m,\u001b[49m\u001b[43m \u001b[49m\u001b[43mminNeighbors\u001b[49m\u001b[38;5;241;43m=\u001b[39;49m\u001b[38;5;241;43m4\u001b[39;49m\u001b[43m,\u001b[49m\u001b[43m \u001b[49m\u001b[43mminSize\u001b[49m\u001b[38;5;241;43m=\u001b[39;49m\u001b[43m(\u001b[49m\u001b[38;5;241;43m5\u001b[39;49m\u001b[43m,\u001b[49m\u001b[38;5;241;43m5\u001b[39;49m\u001b[43m)\u001b[49m\u001b[43m)\u001b[49m\n\u001b[0;32m      9\u001b[0m \u001b[38;5;28;01mfor\u001b[39;00m (x, y, w, h) \u001b[38;5;129;01min\u001b[39;00m waldo_detections:\n\u001b[0;32m     10\u001b[0m     cv\u001b[38;5;241m.\u001b[39mrectangle(image, (x, y), (x\u001b[38;5;241m+\u001b[39mw, y\u001b[38;5;241m+\u001b[39mh), (\u001b[38;5;241m0\u001b[39m, \u001b[38;5;241m255\u001b[39m, \u001b[38;5;241m0\u001b[39m), \u001b[38;5;241m2\u001b[39m)\n",
      "\u001b[1;31merror\u001b[0m: OpenCV(4.9.0) D:\\a\\opencv-python\\opencv-python\\opencv\\modules\\objdetect\\src\\cascadedetect.cpp:1689: error: (-215:Assertion failed) !empty() in function 'cv::CascadeClassifier::detectMultiScale'\n"
     ]
    }
   ],
   "source": [
    "image = cv.imread(r'E:\\ITM_9_IA\\Entrega\\Practica_2\\wally_1.jpg')\n",
    "\n",
    "gray = cv.cvtColor(image, cv.COLOR_BGR2GRAY)\n",
    "\n",
    "wally = cv.CascadeClassifier(r'E:\\ITM_9_IA\\Entrega\\Practica_2\\wally\\classifier\\cascade.xml')\n",
    "\n",
    "waldo_detections = wally.detectMultiScale(gray, scaleFactor=1.6, minNeighbors=4, minSize=(5,5))\n",
    "\n",
    "for (x, y, w, h) in waldo_detections:\n",
    "    cv.rectangle(image, (x, y), (x+w, y+h), (0, 255, 0), 2)\n",
    "    cv.putText(image, 'Wally', (x, y-10), cv.FONT_HERSHEY_SIMPLEX, 0.9, (0, 255, 0), 2)\n",
    "\n",
    "\n",
    "cv.imshow('¿Donde esta Wally?', image)\n",
    "cv.waitKey(0)\n",
    "cv.destroyAllWindows()"
   ]
  },
  {
   "cell_type": "markdown",
   "id": "c940aa1e",
   "metadata": {},
   "source": [
    "### Imagen 2"
   ]
  },
  {
   "cell_type": "code",
   "execution_count": 4,
   "id": "50a10096",
   "metadata": {},
   "outputs": [],
   "source": [
    "image = cv.imread(r'E:\\ITM_9_IA\\Entrega\\Practica_2\\wally_2.png')\n",
    "\n",
    "gray = cv.cvtColor(image, cv.COLOR_BGR2GRAY)\n",
    "\n",
    "wally = cv.CascadeClassifier(r'E:\\ITM_9_IA\\Entrega\\Practica_2\\wally\\classifier\\cascade.xml')\n",
    "\n",
    "waldo_detections = wally.detectMultiScale(gray, scaleFactor=1.5, minNeighbors=2, minSize=(5, 5))\n",
    "\n",
    "for (x, y, w, h) in waldo_detections:\n",
    "    cv.rectangle(image, (x, y), (x+w, y+h), (0, 255, 0), 2)\n",
    "    cv.putText(image, 'Wally', (x, y-10), cv.FONT_HERSHEY_SIMPLEX, 0.9, (0, 255, 0), 2)\n",
    "\n",
    "\n",
    "cv.imshow('¿Donde esta Wally?', image)\n",
    "cv.waitKey(0)\n",
    "cv.destroyAllWindows()"
   ]
  },
  {
   "cell_type": "markdown",
   "id": "1de7d9ea",
   "metadata": {},
   "source": [
    "## Imagen 3"
   ]
  },
  {
   "cell_type": "code",
   "execution_count": 5,
   "id": "9729aad1",
   "metadata": {},
   "outputs": [],
   "source": [
    "image = cv.imread(r'E:\\ITM_9_IA\\Entrega\\Practica_2\\wally_3.jpg')\n",
    "\n",
    "gray = cv.cvtColor(image, cv.COLOR_BGR2GRAY)\n",
    "\n",
    "wally = cv.CascadeClassifier(r'E:\\ITM_9_IA\\Entrega\\Practica_2\\wally\\classifier\\cascade.xml')\n",
    "\n",
    "waldo_detections = wally.detectMultiScale(gray, scaleFactor=1.06, minNeighbors=9, minSize=(5, 5))\n",
    "\n",
    "for (x, y, w, h) in waldo_detections:\n",
    "    cv.rectangle(image, (x, y), (x+w, y+h), (0, 255, 0), 2)\n",
    "    cv.putText(image, 'Wally', (x, y-10), cv.FONT_HERSHEY_SIMPLEX, 0.9, (0, 255, 0), 2)\n",
    "\n",
    "\n",
    "cv.imshow('¿Donde esta Wally?', image)\n",
    "cv.waitKey(0)\n",
    "cv.destroyAllWindows()"
   ]
  },
  {
   "cell_type": "markdown",
   "id": "24096c21",
   "metadata": {},
   "source": [
    "## Imagen 4"
   ]
  },
  {
   "cell_type": "code",
   "execution_count": 6,
   "id": "3937ef69",
   "metadata": {},
   "outputs": [],
   "source": [
    "image = cv.imread(r'E:\\ITM_9_IA\\Entrega\\Practica_2\\wally_4.jpg')\n",
    "\n",
    "gray = cv.cvtColor(image, cv.COLOR_BGR2GRAY)\n",
    "\n",
    "wally = cv.CascadeClassifier(r'E:\\ITM_9_IA\\Entrega\\Practica_2\\wally\\classifier\\cascade.xml')\n",
    "\n",
    "waldo_detections = wally.detectMultiScale(gray, scaleFactor=1.3, minNeighbors=5, minSize=(5,5))\n",
    "\n",
    "for (x, y, w, h) in waldo_detections:\n",
    "    cv.rectangle(image, (x, y), (x+w, y+h), (0, 255, 0), 2)\n",
    "    cv.putText(image, 'Wally', (x, y-10), cv.FONT_HERSHEY_SIMPLEX, 0.9, (0, 255, 0), 2)\n",
    "\n",
    "\n",
    "cv.imshow('¿Donde esta Wally?', image)\n",
    "cv.waitKey(0)\n",
    "cv.destroyAllWindows()"
   ]
  },
  {
   "cell_type": "markdown",
   "id": "0885ae37",
   "metadata": {},
   "source": [
    "## Imagen 5"
   ]
  },
  {
   "cell_type": "code",
   "execution_count": 7,
   "id": "9f4b300d",
   "metadata": {},
   "outputs": [],
   "source": [
    "image = cv.imread(r'E:\\ITM_9_IA\\Entrega\\Practica_2\\wally_5.png')\n",
    "\n",
    "gray = cv.cvtColor(image, cv.COLOR_BGR2GRAY)\n",
    "\n",
    "wally = cv.CascadeClassifier(r'E:\\ITM_9_IA\\Entrega\\Practica_2\\wally\\classifier\\cascade.xml')\n",
    "\n",
    "waldo_detections = wally.detectMultiScale(gray, scaleFactor=1.07, minNeighbors=10, minSize=(5,5))\n",
    "\n",
    "for (x, y, w, h) in waldo_detections:\n",
    "    cv.rectangle(image, (x, y), (x+w, y+h), (0, 255, 0), 2)\n",
    "    cv.putText(image, 'Wally', (x, y-10), cv.FONT_HERSHEY_SIMPLEX, 0.9, (0, 255, 0), 2)\n",
    "\n",
    "\n",
    "cv.imshow('¿Donde esta Wally?', image)\n",
    "cv.waitKey(0)\n",
    "cv.destroyAllWindows()"
   ]
  }
 ],
 "metadata": {
  "kernelspec": {
   "display_name": "Python 3 (ipykernel)",
   "language": "python",
   "name": "python3"
  },
  "language_info": {
   "codemirror_mode": {
    "name": "ipython",
    "version": 3
   },
   "file_extension": ".py",
   "mimetype": "text/x-python",
   "name": "python",
   "nbconvert_exporter": "python",
   "pygments_lexer": "ipython3",
   "version": "3.8.19"
  }
 },
 "nbformat": 4,
 "nbformat_minor": 5
}
